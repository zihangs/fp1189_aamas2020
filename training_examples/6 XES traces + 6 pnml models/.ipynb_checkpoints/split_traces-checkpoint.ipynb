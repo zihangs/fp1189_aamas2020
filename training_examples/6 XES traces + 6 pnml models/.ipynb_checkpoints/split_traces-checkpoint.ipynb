{
 "cells": [
  {
   "cell_type": "markdown",
   "metadata": {},
   "source": [
    "# Generate latex code from event logs\n",
    "\n",
    "Input: XES file (event log), contains all the traces to a certain goal.\n",
    "\n",
    "The event logs are distinguished by colors as below (`color_list`).\n",
    "\n",
    "Need to config the input file name and choose a color from `color_list`.\n",
    "\n",
    "Copy and paste the output codes to latex file for figures.\n",
    "\n",
    "Notice: This code only generates latex code for a single event log. For event logs overlapping display, we need to re-order the lines (`\\draw`) according to the frequency."
   ]
  },
  {
   "cell_type": "code",
   "execution_count": 88,
   "metadata": {},
   "outputs": [],
   "source": []
  },
  {
   "cell_type": "code",
   "execution_count": 12,
   "metadata": {
    "scrolled": true
   },
   "outputs": [
    {
     "name": "stdout",
     "output_type": "stream",
     "text": [
      "\\draw [-{Triangle[scale=2.25,length=3,width=2.200000]},draw={rgb,255:red,30; green,161; blue,165} ,line width=0.600000mm] (3.300000,0.550000)--(3.700000,0.950000);\n",
      "\\draw [-{Triangle[scale=2.25,length=3,width=2.200000]},draw={rgb,255:red,30; green,161; blue,165} ,line width=0.600000mm] (3.800000,1.050000)--(4.200000,1.450000);\n",
      "\\draw [-{Triangle[scale=2.25,length=3,width=1.900000]},draw={rgb,255:red,30; green,161; blue,165} ,line width=0.500000mm] (4.300000,1.550000)--(4.700000,1.950000);\n",
      "\\draw [-{Triangle[scale=2.25,length=3,width=1.600000]},draw={rgb,255:red,30; green,161; blue,165} ,line width=0.400000mm] (4.800000,2.050000)--(5.200000,2.450000);\n",
      "\\draw [-{Triangle[scale=2.25,length=3,width=1.300000]},draw={rgb,255:red,30; green,161; blue,165} ,line width=0.300000mm] (5.300000,2.550000)--(5.700000,2.950000);\n",
      "\\draw [-{Triangle[scale=2.25,length=3,width=1.600000]},draw={rgb,255:red,30; green,161; blue,165} ,line width=0.400000mm] (5.750000,3.050000)--(5.750000,3.450000);\n",
      "\\draw [-{Triangle[scale=2.25,length=3,width=1.600000]},draw={rgb,255:red,30; green,161; blue,165} ,line width=0.400000mm] (3.250000,0.550000)--(3.250000,0.950000);\n",
      "\\draw [-{Triangle[scale=2.25,length=3,width=1.300000]},draw={rgb,255:red,30; green,161; blue,165} ,line width=0.300000mm] (3.300000,1.050000)--(3.700000,1.450000);\n",
      "\\draw [-{Triangle[scale=2.25,length=3,width=1.300000]},draw={rgb,255:red,30; green,161; blue,165} ,line width=0.300000mm] (3.800000,1.550000)--(4.200000,1.950000);\n",
      "\\draw [-{Triangle[scale=2.25,length=3,width=1.300000]},draw={rgb,255:red,30; green,161; blue,165} ,line width=0.300000mm] (4.300000,2.050000)--(4.700000,2.450000);\n",
      "\\draw [-{Triangle[scale=2.25,length=3,width=1.300000]},draw={rgb,255:red,30; green,161; blue,165} ,line width=0.300000mm] (4.800000,2.550000)--(5.200000,2.950000);\n",
      "\\draw [-{Triangle[scale=2.25,length=3,width=1.300000]},draw={rgb,255:red,30; green,161; blue,165} ,line width=0.300000mm] (5.300000,3.050000)--(5.700000,3.450000);\n",
      "\\draw [-{Triangle[scale=2.25,length=3,width=1.300000]},draw={rgb,255:red,30; green,161; blue,165} ,line width=0.300000mm] (5.250000,2.550000)--(5.250000,2.950000);\n",
      "\\draw [-{Triangle[scale=2.25,length=3,width=1.300000]},draw={rgb,255:red,30; green,161; blue,165} ,line width=0.300000mm] (5.300000,3.000000)--(5.700000,3.000000);\n",
      "\\draw [-{Triangle[scale=2.25,length=3,width=1.600000]},draw={rgb,255:red,30; green,161; blue,165} ,line width=0.400000mm] (4.750000,2.050000)--(4.750000,2.450000);\n",
      "\\draw [-{Triangle[scale=2.25,length=3,width=1.600000]},draw={rgb,255:red,30; green,161; blue,165} ,line width=0.400000mm] (4.750000,2.550000)--(4.750000,2.950000);\n",
      "\\draw [-{Triangle[scale=2.25,length=3,width=1.300000]},draw={rgb,255:red,30; green,161; blue,165} ,line width=0.300000mm] (4.800000,3.050000)--(5.200000,3.450000);\n",
      "\\draw [-{Triangle[scale=2.25,length=3,width=1.900000]},draw={rgb,255:red,30; green,161; blue,165} ,line width=0.500000mm] (5.300000,3.500000)--(5.700000,3.500000);\n",
      "\\draw [-{Triangle[scale=2.25,length=3,width=1.300000]},draw={rgb,255:red,30; green,161; blue,165} ,line width=0.300000mm] (4.250000,1.550000)--(4.250000,1.950000);\n",
      "\\draw [-{Triangle[scale=2.25,length=3,width=1.300000]},draw={rgb,255:red,30; green,161; blue,165} ,line width=0.300000mm] (4.300000,2.000000)--(4.700000,2.000000);\n",
      "\\draw [-{Triangle[scale=2.25,length=3,width=1.300000]},draw={rgb,255:red,30; green,161; blue,165} ,line width=0.300000mm] (4.750000,3.050000)--(4.750000,3.450000);\n",
      "\\draw [-{Triangle[scale=2.25,length=3,width=1.600000]},draw={rgb,255:red,30; green,161; blue,165} ,line width=0.400000mm] (4.800000,3.500000)--(5.200000,3.500000);\n",
      "\\draw [-{Triangle[scale=2.25,length=3,width=1.300000]},draw={rgb,255:red,30; green,161; blue,165} ,line width=0.300000mm] (3.250000,1.050000)--(3.250000,1.450000);\n",
      "\\draw [-{Triangle[scale=2.25,length=3,width=1.300000]},draw={rgb,255:red,30; green,161; blue,165} ,line width=0.300000mm] (3.200000,1.550000)--(2.800000,1.950000);\n",
      "\\draw [-{Triangle[scale=2.25,length=3,width=1.300000]},draw={rgb,255:red,30; green,161; blue,165} ,line width=0.300000mm] (2.750000,2.050000)--(2.750000,2.450000);\n",
      "\\draw [-{Triangle[scale=2.25,length=3,width=1.300000]},draw={rgb,255:red,30; green,161; blue,165} ,line width=0.300000mm] (2.800000,2.550000)--(3.200000,2.950000);\n",
      "\\draw [-{Triangle[scale=2.25,length=3,width=1.300000]},draw={rgb,255:red,30; green,161; blue,165} ,line width=0.300000mm] (3.300000,3.050000)--(3.700000,3.450000);\n",
      "\\draw [-{Triangle[scale=2.25,length=3,width=1.300000]},draw={rgb,255:red,30; green,161; blue,165} ,line width=0.300000mm] (3.800000,3.500000)--(4.200000,3.500000);\n",
      "\\draw [-{Triangle[scale=2.25,length=3,width=1.300000]},draw={rgb,255:red,30; green,161; blue,165} ,line width=0.300000mm] (4.300000,3.500000)--(4.700000,3.500000);\n"
     ]
    }
   ],
   "source": [
    "color_list = [\"rgb,255:red,50; green,106; blue,218\",\n",
    "              \"rgb,255:red,176; green,53; blue,53\",\n",
    "              \"rgb,255:red,93; green,172; blue,0\", \n",
    "              \"rgb,255:red,255; green,163; blue,34\", \n",
    "              \"rgb,255:red,86; green,35; blue,132\",\n",
    "              \"rgb,255:red,30; green,161; blue,165\"]\n",
    "\n",
    "import re\n",
    "\n",
    "f1 = open(\"created5.xes\", \"r\")\n",
    "text = f1.readlines()\n",
    "\n",
    "arrow_dict = {}\n",
    "rectangle = []\n",
    "color = color_list[5]\n",
    "\n",
    "for line in text:\n",
    "    if \"string\" in line:\n",
    "        coordinates = re.findall(r\"[0-9]+\", line)\n",
    "        \n",
    "        x1 = int(coordinates[0])*0.5 + 0.75\n",
    "        y1 = int(coordinates[1])*0.5 + 0.5\n",
    "        x2 = int(coordinates[2])*0.5 + 0.75\n",
    "        y2 = int(coordinates[3])*0.5 + 0.5\n",
    "        \n",
    "        if not ((x1, y1) in rectangle):\n",
    "            rectangle.append((x1, y1))\n",
    "        if not ((x2, y2) in rectangle):\n",
    "            rectangle.append((x2, y2))\n",
    "        \n",
    "        if (x1 - x2) < 0: # move right\n",
    "            x1 = x1 + 0.05\n",
    "            x2 = x2 - 0.05\n",
    "            \n",
    "        if (x1 - x2) > 0: # move left\n",
    "            x1 = x1 - 0.05\n",
    "            x2 = x2 + 0.05\n",
    "            \n",
    "        if (y1 - y2) < 0: # move up\n",
    "            y1 = y1 + 0.05\n",
    "            y2 = y2 - 0.05\n",
    "            \n",
    "        if (y1 - y2) > 0: # move left\n",
    "            y1 = y1 - 0.05\n",
    "            y2 = y2 + 0.05\n",
    "            \n",
    "        if (x1,y1,x2,y2) in arrow_dict.keys():\n",
    "            arrow_dict[(x1,y1,x2,y2)] += 1\n",
    "        else:\n",
    "            arrow_dict[(x1,y1,x2,y2)] = 1\n",
    "\n",
    "            \n",
    "# only generate partial grids\n",
    "\"\"\"\n",
    "for coordinate in rectangle:\n",
    "    x1 = coordinate[0] - 0.25\n",
    "    y1 = coordinate[1] - 0.25\n",
    "    x2 = coordinate[0] + 0.25\n",
    "    y2 = coordinate[1] + 0.25\n",
    "    \n",
    "    output = \"\\\\filldraw[fill=white, draw=black] (%f,%f) rectangle (%f,%f);\" % (x1, y1, x2, y2)\n",
    "    print(output)\n",
    "\"\"\"\n",
    "        \n",
    "for key in arrow_dict.keys():\n",
    "    x1 = key[0]\n",
    "    y1 = key[1]\n",
    "    x2 = key[2]\n",
    "    y2 = key[3]\n",
    "    \n",
    "    twidth = arrow_dict[key] * 0.3 + 1\n",
    "    lwidth = arrow_dict[key] * 0.1 + 0.2\n",
    "    output = \"\\draw [-{Triangle[scale=2.25,length=3,width=%f]},draw={%s} ,line width=%fmm] (%f,%f)--(%f,%f);\" % (twidth, color, lwidth, x1, y1, x2, y2)  \n",
    "\n",
    "\n",
    "    print(output)\n",
    "    "
   ]
  },
  {
   "cell_type": "code",
   "execution_count": 80,
   "metadata": {},
   "outputs": [
    {
     "data": {
      "text/plain": [
       "35"
      ]
     },
     "execution_count": 80,
     "metadata": {},
     "output_type": "execute_result"
    }
   ],
   "source": [
    "len(arrow_dict.keys())"
   ]
  },
  {
   "cell_type": "code",
   "execution_count": null,
   "metadata": {},
   "outputs": [],
   "source": []
  }
 ],
 "metadata": {
  "kernelspec": {
   "display_name": "Python 3",
   "language": "python",
   "name": "python3"
  },
  "language_info": {
   "codemirror_mode": {
    "name": "ipython",
    "version": 3
   },
   "file_extension": ".py",
   "mimetype": "text/x-python",
   "name": "python",
   "nbconvert_exporter": "python",
   "pygments_lexer": "ipython3",
   "version": "3.8.6"
  }
 },
 "nbformat": 4,
 "nbformat_minor": 4
}
